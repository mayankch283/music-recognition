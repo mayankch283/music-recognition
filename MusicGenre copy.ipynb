{
 "cells": [
  {
   "cell_type": "code",
   "execution_count": null,
   "metadata": {
    "id": "x2nuIEzWTuDq"
   },
   "outputs": [],
   "source": [
    "import pandas as pd\n",
    "import json\n",
    "import os\n",
    "import math\n",
    "import numpy as np\n",
    "import librosa, librosa.display"
   ]
  },
  {
   "cell_type": "markdown",
   "metadata": {
    "id": "nitRoemoRLP6"
   },
   "source": [
    "##**READ DATASET**"
   ]
  },
  {
   "cell_type": "code",
   "execution_count": null,
   "metadata": {
    "colab": {
     "base_uri": "https://localhost:8080/",
     "height": 371
    },
    "id": "OaDGVPdhUKkj",
    "outputId": "abdaf446-a8ee-481f-8ecc-bb0c2dac1864"
   },
   "outputs": [],
   "source": [
    "df = pd.read_csv(\"/content/drive/MyDrive/Music Genre/Data/features_3_sec.csv\")\n",
    "df.head(10)"
   ]
  },
  {
   "cell_type": "markdown",
   "metadata": {
    "id": "jnkn-ijtRSYW"
   },
   "source": [
    "##**ABOUT DATASET**"
   ]
  },
  {
   "cell_type": "code",
   "execution_count": null,
   "metadata": {
    "colab": {
     "base_uri": "https://localhost:8080/",
     "height": 383
    },
    "id": "x8KCOKWcUin5",
    "outputId": "13a73792-fb90-48a5-911e-936f11fd6386"
   },
   "outputs": [],
   "source": [
    "print(\"Dataset has\",df.shape)\n",
    "print(\"Count of Positive and Negative samples\")\n",
    "df.label.value_counts().reset_index()"
   ]
  },
  {
   "cell_type": "code",
   "execution_count": null,
   "metadata": {
    "colab": {
     "base_uri": "https://localhost:8080/"
    },
    "id": "F6GZGG4WWT5m",
    "outputId": "f6613deb-7b55-4578-a1ff-560152c7d895"
   },
   "outputs": [],
   "source": [
    "print(\"Columns with NA values are\",list(df.columns[df.isnull().any()]))"
   ]
  },
  {
   "cell_type": "code",
   "execution_count": null,
   "metadata": {
    "colab": {
     "base_uri": "https://localhost:8080/"
    },
    "id": "sWNfRvILUnKQ",
    "outputId": "0b14d1bd-d5de-4e22-a0be-82671098ebf8"
   },
   "outputs": [],
   "source": [
    "df.dtypes"
   ]
  },
  {
   "cell_type": "code",
   "execution_count": null,
   "metadata": {
    "id": "84hk1ZVIU9Ad"
   },
   "outputs": [],
   "source": [
    "df = df.drop(labels=\"filename\", axis=1)"
   ]
  },
  {
   "cell_type": "code",
   "execution_count": null,
   "metadata": {
    "colab": {
     "base_uri": "https://localhost:8080/",
     "height": 371
    },
    "id": "oAKom6fDU_qB",
    "outputId": "a8bd9017-f673-406b-b31a-91b70bac4bd9"
   },
   "outputs": [],
   "source": [
    "df.head(10)"
   ]
  },
  {
   "cell_type": "markdown",
   "metadata": {
    "id": "i2iH0VcwbFgI"
   },
   "source": [
    "##**BUILDING MODEL**"
   ]
  },
  {
   "cell_type": "code",
   "execution_count": null,
   "metadata": {
    "id": "YOBWrGaouOiJ"
   },
   "outputs": [],
   "source": [
    "import json\n",
    "import numpy as np\n",
    "from sklearn.model_selection import train_test_split\n",
    "import tensorflow.keras as keras\n",
    "\n",
    "import matplotlib.pyplot as plt\n",
    "import random\n",
    "\n",
    "import librosa\n",
    "import math"
   ]
  },
  {
   "cell_type": "code",
   "execution_count": null,
   "metadata": {
    "id": "bhGK-j0_bdti"
   },
   "outputs": [],
   "source": [
    "DATASET_PATH = \"/content/drive/MyDrive/Music Genre/Data/genres_original\"\n",
    "JSON_PATH = \"data_10.json\"\n",
    "SAMPLE_RATE = 22050\n",
    "TRACK_DURATION = 30 # measured in seconds\n",
    "SAMPLES_PER_TRACK = SAMPLE_RATE * TRACK_DURATION"
   ]
  },
  {
   "cell_type": "code",
   "execution_count": null,
   "metadata": {
    "id": "QO1GwfCNbhXa"
   },
   "outputs": [],
   "source": [
    "def save_mfcc(dataset_path, json_path, num_mfcc=13, n_fft=2048, hop_length=512, num_segments=5):\n",
    "    \"\"\"Extracts MFCCs from music dataset and saves them into a json file along witgh genre labels.\n",
    "        :param dataset_path (str): Path to dataset\n",
    "        :param json_path (str): Path to json file used to save MFCCs\n",
    "        :param num_mfcc (int): Number of coefficients to extract\n",
    "        :param n_fft (int): Interval we consider to apply FFT. Measured in # of samples\n",
    "        :param hop_length (int): Sliding window for FFT. Measured in # of samples\n",
    "        :param: num_segments (int): Number of segments we want to divide sample tracks into\n",
    "        :return:\n",
    "        \"\"\"\n",
    "\n",
    "    # dictionary to store mapping, labels, and MFCCs\n",
    "    data = {\n",
    "        \"mapping\": [],\n",
    "        \"labels\": [],\n",
    "        \"mfcc\": []\n",
    "    }\n",
    "\n",
    "    samples_per_segment = int(SAMPLES_PER_TRACK / num_segments)\n",
    "    num_mfcc_vectors_per_segment = math.ceil(samples_per_segment / hop_length)\n",
    "\n",
    "    # loop through all genre sub-folder\n",
    "    for i, (dirpath, dirnames, filenames) in enumerate(os.walk(dataset_path)):\n",
    "\n",
    "        # ensure we're processing a genre sub-folder level\n",
    "        if dirpath is not dataset_path:\n",
    "\n",
    "            # save genre label (i.e., sub-folder name) in the mapping\n",
    "            semantic_label = dirpath.split(\"/\")[-1]\n",
    "            data[\"mapping\"].append(semantic_label)\n",
    "            print(\"\\nProcessing: {}\".format(semantic_label))\n",
    "\n",
    "            # process all audio files in genre sub-dir\n",
    "            for f in filenames:\n",
    "\n",
    "\t\t# load audio file\n",
    "\n",
    "                file_path = os.path.join(dirpath, f)\n",
    "            \n",
    "                if file_path != '/content/drive/MyDrive/Music Genre/Data/genres_original/jazz/jazz.00054.wav':\n",
    "\n",
    "                    signal, sample_rate = librosa.load(file_path, sr=SAMPLE_RATE)\n",
    "                \n",
    "                \n",
    "                    # process all segments of audio file\n",
    "                    for d in range(num_segments):\n",
    "\n",
    "                        # calculate start and finish sample for current segment\n",
    "                        start = samples_per_segment * d\n",
    "                        finish = start + samples_per_segment\n",
    "\n",
    "                        # extract mfcc\n",
    "                        mfcc = librosa.feature.mfcc(signal[start:finish], sample_rate, n_mfcc=num_mfcc, n_fft=n_fft, hop_length=hop_length)\n",
    "                        mfcc = mfcc.T\n",
    "\n",
    "                        # store only mfcc feature with expected number of vectors\n",
    "                        if len(mfcc) == num_mfcc_vectors_per_segment:\n",
    "                            data[\"mfcc\"].append(mfcc.tolist())\n",
    "                            data[\"labels\"].append(i-1)\n",
    "                            print(\"{}, segment:{}\".format(file_path, d+1))\n",
    "\n",
    "    # save MFCCs to json file\n",
    "    with open(json_path, \"w\") as fp:\n",
    "        json.dump(data, fp, indent=4)"
   ]
  },
  {
   "cell_type": "code",
   "execution_count": null,
   "metadata": {
    "colab": {
     "base_uri": "https://localhost:8080/"
    },
    "id": "B3gxtdKdbhRV",
    "outputId": "396c0c96-c05a-43ab-d5f5-a489d4dc192d"
   },
   "outputs": [],
   "source": [
    "save_mfcc(DATASET_PATH, JSON_PATH, num_segments=10)"
   ]
  },
  {
   "cell_type": "code",
   "execution_count": null,
   "metadata": {
    "id": "JsTJEUDLbhKq"
   },
   "outputs": [],
   "source": [
    "# path to json\n",
    "DATA_PATH = \"/content/drive/MyDrive/Music Genre/data_10.json\""
   ]
  },
  {
   "cell_type": "code",
   "execution_count": null,
   "metadata": {
    "id": "K589xd_Abwa9"
   },
   "outputs": [],
   "source": [
    "def load_data(data_path):\n",
    "\n",
    "    with open(data_path, \"r\") as f:\n",
    "        data = json.load(f)\n",
    "\n",
    "    # convert lists to numpy arrays\n",
    "    X = np.array(data[\"mfcc\"])\n",
    "    y = np.array(data[\"labels\"])\n",
    "\n",
    "    print(\"Data succesfully loaded!\")\n",
    "\n",
    "    return  X, y"
   ]
  },
  {
   "cell_type": "code",
   "execution_count": null,
   "metadata": {
    "colab": {
     "base_uri": "https://localhost:8080/"
    },
    "id": "tPu-qKiRbwVl",
    "outputId": "7ef5afe8-294f-4578-f7e9-a310a1bcb8cb"
   },
   "outputs": [],
   "source": [
    "# load data\n",
    "X, y = load_data(DATA_PATH)"
   ]
  },
  {
   "cell_type": "code",
   "execution_count": null,
   "metadata": {
    "colab": {
     "base_uri": "https://localhost:8080/"
    },
    "id": "YtQLiCsNbwQf",
    "outputId": "eb06facc-af9e-48e1-c5cc-9a8d33adcaa7"
   },
   "outputs": [],
   "source": [
    "X.shape"
   ]
  },
  {
   "cell_type": "code",
   "execution_count": null,
   "metadata": {
    "id": "nkB7i1CabwKv"
   },
   "outputs": [],
   "source": [
    "# create train, validation and test split\n",
    "X_train, X_test, y_train, y_test = train_test_split(X, y, test_size=0.25)\n",
    "\n",
    "# add an axis to input sets\n",
    "X_train = X_train[..., np.newaxis]\n",
    "X_test = X_test[..., np.newaxis]"
   ]
  },
  {
   "cell_type": "code",
   "execution_count": null,
   "metadata": {
    "colab": {
     "base_uri": "https://localhost:8080/"
    },
    "id": "di_RCDspbwD0",
    "outputId": "80a96fbc-1c6d-496f-b644-07569402a33b"
   },
   "outputs": [],
   "source": [
    "X_train.shape"
   ]
  },
  {
   "cell_type": "code",
   "execution_count": null,
   "metadata": {
    "id": "w2JDhjP8cIlC"
   },
   "outputs": [],
   "source": [
    "input_shape = (X_train.shape[1], X_train.shape[2], 1)"
   ]
  },
  {
   "cell_type": "code",
   "execution_count": null,
   "metadata": {
    "id": "uYTiU_g7cLvd"
   },
   "outputs": [],
   "source": [
    "from keras.regularizers import l2\n",
    "# build the CNN\n",
    "model_cnn = keras.Sequential()\n",
    "\n",
    "# 1st conv layer\n",
    "model_cnn.add(keras.layers.Conv2D(32, (3, 3), activation='relu', input_shape=input_shape))\n",
    "model_cnn.add(keras.layers.MaxPooling2D((3, 3), strides=(2, 2), padding='same'))\n",
    "model_cnn.add(keras.layers.BatchNormalization())\n",
    "\n",
    "\n",
    "# 2nd conv layer\n",
    "model_cnn.add(keras.layers.Conv2D(64, (3, 3), activation='relu',kernel_initializer='he_uniform',kernel_regularizer=l2(0.0001)))\n",
    "model_cnn.add(keras.layers.MaxPooling2D((3, 3), strides=(2, 2), padding='same'))\n",
    "model_cnn.add(keras.layers.BatchNormalization())\n",
    "model_cnn.add(keras.layers.Dropout(0.3))\n",
    "\n",
    "# 3rd conv layer\n",
    "model_cnn.add(keras.layers.Conv2D(128, (2, 2), activation='relu',kernel_initializer='he_uniform',kernel_regularizer=l2(0.0001)))\n",
    "model_cnn.add(keras.layers.MaxPooling2D((2, 2), strides=(2, 2), padding='same'))\n",
    "model_cnn.add(keras.layers.BatchNormalization())\n",
    "model_cnn.add(keras.layers.Dropout(0.3))\n",
    "\n",
    "# flatten output and feed it into dense layer\n",
    "model_cnn.add(keras.layers.Flatten())\n",
    "model_cnn.add(keras.layers.Dense(128, activation='relu',kernel_initializer='he_uniform',kernel_regularizer=l2(0.0001)))\n",
    "model_cnn.add(keras.layers.BatchNormalization())\n",
    "model_cnn.add(keras.layers.Dropout(0.3))\n",
    "\n",
    "# output layer\n",
    "model_cnn.add(keras.layers.Dense(10, activation='softmax'))"
   ]
  },
  {
   "cell_type": "code",
   "execution_count": null,
   "metadata": {
    "id": "hq3DFOOCcLov"
   },
   "outputs": [],
   "source": [
    "# compile model\n",
    "optimiser = keras.optimizers.Adam(learning_rate=0.0001)\n",
    "model_cnn.compile(optimizer=optimiser,\n",
    "              loss='sparse_categorical_crossentropy',\n",
    "              metrics=['accuracy'])"
   ]
  },
  {
   "cell_type": "code",
   "execution_count": null,
   "metadata": {
    "id": "zwGjQ86nCnqH"
   },
   "outputs": [],
   "source": [
    "from tensorflow.keras.callbacks import EarlyStopping\n",
    "callbacks = [\n",
    "             EarlyStopping(patience=3)\n",
    "]"
   ]
  },
  {
   "cell_type": "code",
   "execution_count": null,
   "metadata": {
    "colab": {
     "base_uri": "https://localhost:8080/"
    },
    "id": "5oUWH_BDcLdQ",
    "outputId": "91730909-3250-43a3-beb0-205f447554fd"
   },
   "outputs": [],
   "source": [
    "model_cnn.summary()"
   ]
  },
  {
   "cell_type": "code",
   "execution_count": null,
   "metadata": {
    "colab": {
     "base_uri": "https://localhost:8080/"
    },
    "id": "lCoBGwc8cQi6",
    "outputId": "4a65b36c-9a50-4ea4-e6db-cf7a061349e0"
   },
   "outputs": [],
   "source": [
    "# train model\n",
    "history = model_cnn.fit(X_train, y_train, validation_data=(X_test, y_test), batch_size=32, epochs=100,callbacks=callbacks)"
   ]
  },
  {
   "cell_type": "code",
   "execution_count": null,
   "metadata": {
    "colab": {
     "base_uri": "https://localhost:8080/",
     "height": 295
    },
    "id": "NlFdiO7mcQbZ",
    "outputId": "274eb349-ab0e-4597-be45-2dbfb2d8b765"
   },
   "outputs": [],
   "source": [
    "def plot_history(history):\n",
    "\n",
    "    fig, axs = plt.subplots(2)\n",
    "\n",
    "    # create accuracy sublpot\n",
    "    axs[0].plot(history.history[\"accuracy\"], label=\"train accuracy\")\n",
    "    axs[0].plot(history.history[\"val_accuracy\"], label=\"test accuracy\")\n",
    "    axs[0].set_ylabel(\"Accuracy\")\n",
    "    axs[0].legend(loc=\"lower right\")\n",
    "    axs[0].set_title(\"Accuracy eval\")\n",
    "\n",
    "    # create error sublpot\n",
    "    axs[1].plot(history.history[\"loss\"], label=\"train error\")\n",
    "    axs[1].plot(history.history[\"val_loss\"], label=\"test error\")\n",
    "    axs[1].set_ylabel(\"Error\")\n",
    "    axs[1].set_xlabel(\"Epoch\")\n",
    "    axs[1].legend(loc=\"upper right\")\n",
    "    axs[1].set_title(\"Error eval\")\n",
    "    \n",
    "    plt.show()\n",
    "\n",
    "\n",
    "# plot accuracy and error as a function of the epochs\n",
    "plot_history(history)"
   ]
  },
  {
   "cell_type": "code",
   "execution_count": null,
   "metadata": {
    "colab": {
     "base_uri": "https://localhost:8080/",
     "height": 362
    },
    "id": "jSedTSCINr6b",
    "outputId": "8e536948-b865-4efe-a836-805ef3a2e588"
   },
   "outputs": [],
   "source": [
    "import pandas as pd\n",
    "metrics_df = pd.DataFrame(history.history)\n",
    "metrics_df.tail(10)"
   ]
  },
  {
   "cell_type": "code",
   "execution_count": null,
   "metadata": {
    "colab": {
     "base_uri": "https://localhost:8080/"
    },
    "id": "i2n98UvmcQTj",
    "outputId": "8b5d74dd-20b3-4325-aba2-8e6dd5eaef56"
   },
   "outputs": [],
   "source": [
    "# evaluate model on Test Set\n",
    "test_loss, test_acc = model_cnn.evaluate(X_test, y_test, verbose=2)\n",
    "print('\\nTest accuracy:', test_acc)"
   ]
  },
  {
   "cell_type": "code",
   "execution_count": null,
   "metadata": {
    "id": "Qeyx753AcZ4z"
   },
   "outputs": [],
   "source": [
    "model_cnn.save(\"MusicGenre_CNN.h5\")"
   ]
  },
  {
   "cell_type": "code",
   "execution_count": null,
   "metadata": {
    "colab": {
     "base_uri": "https://localhost:8080/"
    },
    "id": "BG34d_lHj1jT",
    "outputId": "ee3df518-dce7-4848-ebd2-c184691c48ae"
   },
   "outputs": [],
   "source": [
    "new_model = keras.models.load_model(\"MusicGenre_CNN.h5\")\n",
    "new_model.evaluate(X_test,y_test,batch_size=128)"
   ]
  },
  {
   "cell_type": "markdown",
   "metadata": {
    "id": "geQHgb3_j8Kc"
   },
   "source": [
    "#**TESTING ON TEST DATASET**"
   ]
  },
  {
   "cell_type": "code",
   "execution_count": null,
   "metadata": {
    "id": "SwSYcPAgj7v3"
   },
   "outputs": [],
   "source": [
    "# pick a sample to predict from the test set\n",
    "X_to_predict = X_test[100]\n",
    "y_to_predict = y_test[100]"
   ]
  },
  {
   "cell_type": "code",
   "execution_count": null,
   "metadata": {
    "colab": {
     "base_uri": "https://localhost:8080/"
    },
    "id": "dQceqEy3kMZu",
    "outputId": "45879c73-86b7-4b7c-ab8f-77ed28c6a1e3"
   },
   "outputs": [],
   "source": [
    "X_to_predict.shape"
   ]
  },
  {
   "cell_type": "code",
   "execution_count": null,
   "metadata": {
    "id": "ruiksozskMTa"
   },
   "outputs": [],
   "source": [
    "# add a dimension to input data for sample - model.predict() expects a 4d array in this case\n",
    "X_to_predict = X_to_predict[np.newaxis, ...] # array shape (1, 130, 13, 1)"
   ]
  },
  {
   "cell_type": "code",
   "execution_count": null,
   "metadata": {
    "colab": {
     "base_uri": "https://localhost:8080/"
    },
    "id": "ZHhqRACPkMNe",
    "outputId": "b20d70f2-6c35-417e-852e-cbace0d73ff4"
   },
   "outputs": [],
   "source": [
    "X_to_predict.shape"
   ]
  },
  {
   "cell_type": "code",
   "execution_count": null,
   "metadata": {
    "id": "jDqq9wM_kRPt"
   },
   "outputs": [],
   "source": [
    "# perform prediction\n",
    "prediction = model_cnn.predict(X_to_predict)"
   ]
  },
  {
   "cell_type": "code",
   "execution_count": null,
   "metadata": {
    "colab": {
     "base_uri": "https://localhost:8080/"
    },
    "id": "QdV7mQMrkRJC",
    "outputId": "c5a155ff-a557-4630-a819-6a313df36c40"
   },
   "outputs": [],
   "source": [
    "# get index with max value\n",
    "predicted_index = np.argmax(prediction, axis=1)\n",
    "\n",
    "print(\"Predicted Genre:\", int(predicted_index))"
   ]
  },
  {
   "cell_type": "markdown",
   "metadata": {
    "id": "5-642U83kY5V"
   },
   "source": [
    "####**ALL in ONE**"
   ]
  },
  {
   "cell_type": "code",
   "execution_count": null,
   "metadata": {
    "colab": {
     "base_uri": "https://localhost:8080/"
    },
    "id": "5QyBWem2kTrt",
    "outputId": "d23d013b-4931-42c8-ecfd-d03df2c220f4"
   },
   "outputs": [],
   "source": [
    "# pick a sample to predict from the test set\n",
    "X_to_predict = X_test[50]\n",
    "y_to_predict = y_test[50]\n",
    "\n",
    "print(\"Real Genre:\", y_to_predict)\n",
    "\n",
    "X_to_predict = X_to_predict[np.newaxis, ...]\n",
    "\n",
    "prediction = model_cnn.predict(X_to_predict)\n",
    "\n",
    "# get index with max value\n",
    "predicted_index = np.argmax(prediction, axis=1)\n",
    "\n",
    "print(\"Predicted Genre:\", int(predicted_index))"
   ]
  },
  {
   "cell_type": "markdown",
   "metadata": {
    "id": "1m-aX2Haktnn"
   },
   "source": [
    "####**MULTI-TESTING ON TEST DATASET**"
   ]
  },
  {
   "cell_type": "code",
   "execution_count": null,
   "metadata": {
    "colab": {
     "base_uri": "https://localhost:8080/"
    },
    "id": "n0CRGswdk4_3",
    "outputId": "9839e590-4580-495e-d7e6-1dae0185648c"
   },
   "outputs": [],
   "source": [
    "import random\n",
    "for n in range(10):\n",
    "\n",
    "  i = random.randint(0,len(X_test))\n",
    "  # pick a sample to predict from the test set\n",
    "  X_to_predict = X_test[i]\n",
    "  y_to_predict = y_test[i]\n",
    "\n",
    "  print(\"\\nReal Genre:\", y_to_predict)\n",
    "\n",
    "  X_to_predict = X_to_predict[np.newaxis, ...]\n",
    "\n",
    "  prediction = model_cnn.predict(X_to_predict)\n",
    "\n",
    "  # get index with max value\n",
    "  predicted_index = np.argmax(prediction, axis=1)\n",
    "\n",
    "  print(\"Predicted Genre:\", int(predicted_index))"
   ]
  },
  {
   "cell_type": "markdown",
   "metadata": {
    "id": "o6kCMpcRkhc5"
   },
   "source": [
    "#**TESTING with EXTERNAL DATA**"
   ]
  },
  {
   "cell_type": "code",
   "execution_count": null,
   "metadata": {
    "id": "JMbw4MlCkTlP"
   },
   "outputs": [],
   "source": [
    "# Audio files pre-processing\n",
    "def process_input(audio_file, track_duration):\n",
    "\n",
    "  SAMPLE_RATE = 22050\n",
    "  NUM_MFCC = 13\n",
    "  N_FTT=2048\n",
    "  HOP_LENGTH=512\n",
    "  TRACK_DURATION = track_duration # measured in seconds\n",
    "  SAMPLES_PER_TRACK = SAMPLE_RATE * TRACK_DURATION\n",
    "  NUM_SEGMENTS = 10\n",
    "\n",
    "  samples_per_segment = int(SAMPLES_PER_TRACK / NUM_SEGMENTS)\n",
    "  num_mfcc_vectors_per_segment = math.ceil(samples_per_segment / HOP_LENGTH)\n",
    "\n",
    "  signal, sample_rate = librosa.load(audio_file, sr=SAMPLE_RATE)\n",
    "  \n",
    "  for d in range(10):\n",
    "\n",
    "    # calculate start and finish sample for current segment\n",
    "    start = samples_per_segment * d\n",
    "    finish = start + samples_per_segment\n",
    "\n",
    "    # extract mfcc\n",
    "    mfcc = librosa.feature.mfcc(signal[start:finish], sample_rate, n_mfcc=NUM_MFCC, n_fft=N_FTT, hop_length=HOP_LENGTH)\n",
    "    mfcc = mfcc.T\n",
    "\n",
    "    return mfcc"
   ]
  },
  {
   "cell_type": "code",
   "execution_count": null,
   "metadata": {
    "id": "LN1hbsx1tsGE"
   },
   "outputs": [],
   "source": [
    "genre_dict = {0:\"disco \",1:\"pop\",2:\"classical\",3:\"metal\",4:\"rock\",5:\"blues\",6:\"hiphop\",7:\"reggae\",8:\"country\",9:\"jazz\"}"
   ]
  },
  {
   "cell_type": "code",
   "execution_count": null,
   "metadata": {
    "id": "AeAws687tr75"
   },
   "outputs": [],
   "source": [
    "new_input_mfcc = process_input(\"/content/drive/MyDrive/Music Genre/wav_files/blues.00000.wav\", 30)"
   ]
  },
  {
   "cell_type": "code",
   "execution_count": null,
   "metadata": {
    "colab": {
     "base_uri": "https://localhost:8080/"
    },
    "id": "RkgDq5wRtrwb",
    "outputId": "65738f6c-c349-46a6-ac2f-b3cd59d8ebcb"
   },
   "outputs": [],
   "source": [
    "type(new_input_mfcc)"
   ]
  },
  {
   "cell_type": "code",
   "execution_count": null,
   "metadata": {
    "colab": {
     "base_uri": "https://localhost:8080/"
    },
    "id": "35fp6pNqtrla",
    "outputId": "801f0ebc-0a9b-4098-f63c-13ababa9cb86"
   },
   "outputs": [],
   "source": [
    "new_input_mfcc.shape"
   ]
  },
  {
   "cell_type": "code",
   "execution_count": null,
   "metadata": {
    "colab": {
     "base_uri": "https://localhost:8080/"
    },
    "id": "UmYc5CYctraA",
    "outputId": "a12d4f7a-9fdb-435a-a81b-469ce99f580a"
   },
   "outputs": [],
   "source": [
    "X_to_predict = new_input_mfcc[np.newaxis, ..., np.newaxis]\n",
    "X_to_predict.shape"
   ]
  },
  {
   "cell_type": "code",
   "execution_count": null,
   "metadata": {
    "colab": {
     "base_uri": "https://localhost:8080/"
    },
    "id": "PJ-tO1xYty3X",
    "outputId": "11669727-39a2-4469-d001-957f900bbd8a"
   },
   "outputs": [],
   "source": [
    "prediction = model_cnn.predict(X_to_predict)\n",
    "\n",
    "# get index with max value\n",
    "predicted_index = np.argmax(prediction, axis=1)\n",
    "\n",
    "print(\"Predicted Genre:\", genre_dict[int(predicted_index)])"
   ]
  }
 ],
 "metadata": {
  "accelerator": "GPU",
  "colab": {
   "collapsed_sections": [],
   "name": "Final_Year_Project_2021_MusicGenre.ipynb",
   "provenance": []
  },
  "kernelspec": {
   "display_name": "Python 3",
   "name": "python3"
  },
  "language_info": {
   "name": "python"
  }
 },
 "nbformat": 4,
 "nbformat_minor": 0
}
